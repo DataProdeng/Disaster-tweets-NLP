{
 "cells": [
  {
   "cell_type": "markdown",
   "id": "5e7059ae",
   "metadata": {},
   "source": [
    "## Importing libraries"
   ]
  },
  {
   "cell_type": "code",
   "execution_count": 1,
   "id": "4c99c502",
   "metadata": {},
   "outputs": [],
   "source": [
    "import pandas as pd\n",
    "import numpy as np\n",
    "import tensorflow as tf\n",
    "import matplotlib.pyplot as plt\n",
    "from sklearn.model_selection import train_test_split\n",
    "\n",
    "import json\n",
    "\n",
    "from tensorflow.keras.preprocessing.text import Tokenizer\n",
    "from tensorflow.keras.preprocessing.sequence import pad_sequences"
   ]
  },
  {
   "cell_type": "markdown",
   "id": "678e6b44",
   "metadata": {},
   "source": [
    "## Loading data"
   ]
  },
  {
   "cell_type": "code",
   "execution_count": 2,
   "id": "511f6c74",
   "metadata": {},
   "outputs": [],
   "source": [
    "full_train_data = pd.read_csv('train.csv', usecols=['id', 'text', 'target'])\n",
    "test_data = pd.read_csv('test.csv', usecols = ['id', 'text'])"
   ]
  },
  {
   "cell_type": "markdown",
   "id": "3f9171b5",
   "metadata": {},
   "source": [
    "### Visualizing training data distribution"
   ]
  },
  {
   "cell_type": "code",
   "execution_count": 3,
   "id": "3bc4e285",
   "metadata": {},
   "outputs": [
    {
     "data": {
      "image/png": "[encoded data removed]",
      "text/plain": [
       "<Figure size 360x360 with 1 Axes>"
      ]
     },
     "metadata": {},
     "output_type": "display_data"
    }
   ],
   "source": [
    "disaster_tweets = full_train_data[full_train_data['target']==1]\n",
    "no_emergency = full_train_data[full_train_data['target']!=1]\n",
    "\n",
    "fig = plt.figure(figsize=(5, 5))\n",
    "\n",
    "# labels for the two classes\n",
    "labels = 'Disaster', 'No Emergency'\n",
    "\n",
    "# Sizes for each slide\n",
    "sizes = [len(disaster_tweets), len(no_emergency)] \n",
    "\n",
    "plt.pie(sizes, labels=labels, autopct='%1.1f%%',\n",
    "        shadow=True, startangle=90)\n",
    "\n",
    "# To ensure pie is drawn as a circle\n",
    "plt.axis('equal')  \n",
    "\n",
    "# Display the chart\n",
    "plt.show()"
   ]
  },
  {
   "cell_type": "markdown",
   "id": "222cfd7e",
   "metadata": {},
   "source": [
    "### Shuffling data"
   ]
  },
  {
   "cell_type": "code",
   "execution_count": 4,
   "id": "2fa7efd7",
   "metadata": {},
   "outputs": [],
   "source": [
    "#to shuffle data in training set before splitting\n",
    "full_train_data = full_train_data.sample(frac=1).reset_index(drop=True)\n",
    "\n",
    "train_tweets, val_test_tweets, train_labels, val_test_labels = train_test_split(full_train_data['text'], \n",
    "                                                                                full_train_data['target'], \n",
    "                                                                                  test_size=0.2)\n",
    "\n",
    "train_tweets = train_tweets.tolist()\n",
    "train_labels = train_labels.tolist()\n",
    "\n",
    "val_test_tweets = val_test_tweets.tolist()\n",
    "val_test_labels = val_test_labels.tolist()\n",
    "\n",
    "length = len(val_test_tweets)"
   ]
  },
  {
   "cell_type": "markdown",
   "id": "cccbbed3",
   "metadata": {},
   "source": [
    "## Building Model"
   ]
  },
  {
   "cell_type": "code",
   "execution_count": 5,
   "id": "a9faa42b",
   "metadata": {},
   "outputs": [],
   "source": [
    "vocab_size = 10000 #input length in embedding layer, \n",
    "embedding_dim = 16\n",
    "max_length = 100\n",
    "trunc_type='post'\n",
    "padding_type='post'\n",
    "oov_tok = \"<OOV>\"\n",
    "training_size = 20000"
   ]
  },
  {
   "cell_type": "code",
   "execution_count": 6,
   "id": "fd7ba0cb",
   "metadata": {},
   "outputs": [],
   "source": [
    "tokenizer = Tokenizer(num_words=vocab_size, oov_token=oov_tok)\n",
    "tokenizer.fit_on_texts(train_tweets)\n",
    "\n",
    "word_index = tokenizer.word_index\n",
    "\n",
    "training_sequences = tokenizer.texts_to_sequences(train_tweets)\n",
    "training_padded = pad_sequences(training_sequences, maxlen=max_length, padding=padding_type, truncating=trunc_type)\n",
    "\n",
    "val_sequence = tokenizer.texts_to_sequences(val_test_tweets)\n",
    "val_padded = pad_sequences(val_sequence, maxlen=max_length, padding=padding_type, truncating=trunc_type)\n",
    "\n",
    "# Need this block to get it to work with TensorFlow 2.x\n",
    "training_padded = np.array(training_padded)\n",
    "training_labels = np.array(train_labels)\n",
    "    \n",
    "val_padded = np.array(val_padded)\n",
    "val_labels = np.array(val_test_labels)"
   ]
  },
  {
   "cell_type": "code",
   "execution_count": 7,
   "id": "045cd349",
   "metadata": {},
   "outputs": [
    {
     "data": {
      "text/plain": [
       "6090"
      ]
     },
     "execution_count": 7,
     "metadata": {},
     "output_type": "execute_result"
    }
   ],
   "source": [
    "len(train_labels)"
   ]
  },
  {
   "cell_type": "code",
   "execution_count": 8,
   "id": "0f0b7a85",
   "metadata": {},
   "outputs": [],
   "source": [
    "num_epochs = 30\n",
    "    \n",
    "model = tf.keras.Sequential([\n",
    "        tf.keras.layers.Embedding(vocab_size, embedding_dim, input_length=max_length),\n",
    "        tf.keras.layers.GlobalAveragePooling1D(),\n",
    "        tf.keras.layers.Dense(36, activation='relu'),\n",
    "        tf.keras.layers.Dense(24, activation='relu'),\n",
    "        tf.keras.layers.Dense(10, activation='relu'),\n",
    "        tf.keras.layers.Dense(1, activation='sigmoid')\n",
    "                            ])\n",
    "        \n",
    "model.compile(loss='binary_crossentropy', optimizer = 'adam', metrics=['accuracy'])\n",
    "    \n",
    "# Defining early stopping to prevent overfitting\n",
    "early_stopping = tf.keras.callbacks.EarlyStopping(\n",
    "                        monitor = 'val_loss',\n",
    "                        mode = 'auto',\n",
    "                        min_delta = 0,\n",
    "                        patience = 2,\n",
    "                        verbose = 0, \n",
    "                        restore_best_weights = True\n",
    "                    )\n",
    "\n",
    "# This function keeps the initial learning rate for the first ten epochs\n",
    "# and decreases it exponentially after that.\n",
    "def scheduler(epoch, lr):\n",
    "    if epoch < 3:\n",
    "        return lr\n",
    "    else:\n",
    "        return lr * tf.math.exp(-0.01)\n",
    "    \n",
    "lrscheduler = tf.keras.callbacks.LearningRateScheduler(scheduler)"
   ]
  },
  {
   "cell_type": "code",
   "execution_count": 9,
   "id": "c66d46c0",
   "metadata": {},
   "outputs": [
    {
     "name": "stdout",
     "output_type": "stream",
     "text": [
      "Epoch 1/30\n",
      "191/191 - 1s - loss: 0.6806 - accuracy: 0.5711 - val_loss: 0.6741 - val_accuracy: 0.5673 - lr: 0.0010 - 1s/epoch - 7ms/step\n",
      "Epoch 2/30\n",
      "191/191 - 0s - loss: 0.6035 - accuracy: 0.6760 - val_loss: 0.5449 - val_accuracy: 0.7702 - lr: 0.0010 - 482ms/epoch - 3ms/step\n",
      "Epoch 3/30\n",
      "191/191 - 0s - loss: 0.4311 - accuracy: 0.8245 - val_loss: 0.4621 - val_accuracy: 0.8050 - lr: 0.0010 - 472ms/epoch - 2ms/step\n",
      "Epoch 4/30\n",
      "191/191 - 0s - loss: 0.3107 - accuracy: 0.8793 - val_loss: 0.4664 - val_accuracy: 0.7971 - lr: 9.9005e-04 - 460ms/epoch - 2ms/step\n",
      "Epoch 5/30\n",
      "191/191 - 1s - loss: 0.2470 - accuracy: 0.9057 - val_loss: 0.4902 - val_accuracy: 0.8037 - lr: 9.8020e-04 - 645ms/epoch - 3ms/step\n"
     ]
    }
   ],
   "source": [
    "history = model.fit(\n",
    "    training_padded, \n",
    "    training_labels, \n",
    "    epochs=num_epochs, \n",
    "    callbacks = [lrscheduler, early_stopping], \n",
    "    validation_data=(val_padded, val_labels), \n",
    "    verbose=2)"
   ]
  },
  {
   "cell_type": "code",
   "execution_count": 10,
   "id": "c6da2ad5",
   "metadata": {},
   "outputs": [],
   "source": [
    "test_data_tweets = test_data['text']\n",
    "test_data_tweets = test_data_tweets.tolist()\n",
    "\n",
    "test_data_sequence = tokenizer.texts_to_sequences(test_data_tweets)\n",
    "test_data_padded = pad_sequences(test_data_sequence, maxlen=max_length, padding=padding_type, truncating=trunc_type)\n",
    "\n",
    "test_data_padded = np.array(test_data_padded)"
   ]
  },
  {
   "cell_type": "markdown",
   "id": "f0841d63",
   "metadata": {},
   "source": [
    "### Model prediction"
   ]
  },
  {
   "cell_type": "code",
   "execution_count": 11,
   "id": "fc82992c",
   "metadata": {},
   "outputs": [],
   "source": [
    "predicted = model.predict(test_data_padded)\n",
    "\n",
    "y_predicted = np.where(predicted>0.5, 1, 0)\n",
    "y_predicted = y_predicted.reshape((1,3263))[0]"
   ]
  },
  {
   "cell_type": "markdown",
   "id": "4c993a6e",
   "metadata": {},
   "source": [
    "### Saving output to csv."
   ]
  },
  {
   "cell_type": "code",
   "execution_count": 12,
   "id": "e7eb4235",
   "metadata": {},
   "outputs": [],
   "source": [
    "output1 = pd.DataFrame()\n",
    "output1['id'] = test_data['id']\n",
    "output1['target'] = y_predicted\n",
    "output1.to_csv('submission_v1.csv', index=False)"
   ]
  }
 ],
 "metadata": {
  "kernelspec": {
   "display_name": "Python 3 (ipykernel)",
   "language": "python",
   "name": "python3"
  },
  "language_info": {
   "codemirror_mode": {
    "name": "ipython",
    "version": 3
   },
   "file_extension": ".py",
   "mimetype": "text/x-python",
   "name": "python",
   "nbconvert_exporter": "python",
   "pygments_lexer": "ipython3",
   "version": "3.8.12"
  }
 },
 "nbformat": 4,
 "nbformat_minor": 5
}
